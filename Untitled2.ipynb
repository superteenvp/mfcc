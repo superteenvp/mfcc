{
 "cells": [
  {
   "cell_type": "code",
   "execution_count": null,
   "id": "5e4fdc93-92b3-4129-9fd6-ca5815b80ad6",
   "metadata": {},
   "outputs": [],
   "source": [
    "import time\n",
    "import librosa\n",
    "\n",
    "from dtw import dtw\n",
    "import librosa.display\n",
    "from scipy.spatial.distance import cdist\n",
    "import matplotlib.pyplot as plt\n",
    "import os\n",
    "import numpy as np\n",
    "import pandas as pd\n",
    "import scipy.io.wavfile as wav\n",
    "import math\n",
    "import matplotlib.pyplot as plt\n",
    "# Get feature\n",
    "from sklearn import metrics"
   ]
  },
  {
   "cell_type": "code",
   "execution_count": 2,
   "id": "1e48a6f0-5b49-4cf7-adca-77d6f627f555",
   "metadata": {},
   "outputs": [],
   "source": [
    "def get_mfcc(file_path):\n",
    "    y, sr = librosa.load(file_path)  # read .wav file\n",
    "    hop_length = math.floor(sr * 0.010)  # 10ms hop\n",
    "    win_length = math.floor(sr * 0.025)  # 25ms frame\n",
    "    # mfcc is 13 x T matrix\n",
    "    mfcc = librosa.feature.mfcc(y=y, sr=sr, n_mfcc=13)\n",
    "    # substract mean from mfcc --> normalize mfcc\n",
    "    mfcc = mfcc - np.mean(mfcc, axis=1).reshape((-1, 1))\n",
    "    # delta feature 1st order and 2nd order\n",
    "    delta1 = librosa.feature.delta(mfcc, order=1)\n",
    "    delta2 = librosa.feature.delta(mfcc, order=2)\n",
    "    # X is 39 x T\n",
    "    X = np.concatenate([mfcc, delta1, delta2], axis=0)  # O^r\n",
    "    # return T x 39 (transpose of X)\n",
    "    return X.T  # dtw use T x N matrix\n",
    "\n",
    "\n",
    "train_path = 'MFCC_feature/data_output'\n",
    "files = [file for file in os.listdir(train_path)]"
   ]
  },
  {
   "cell_type": "code",
   "execution_count": 5,
   "id": "14c9b427-9542-4498-bcc0-c6a2efa5058b",
   "metadata": {},
   "outputs": [],
   "source": [
    "def predict_result(file_test):\n",
    "    mfcc = get_mfcc(file_test)\n",
    "    distance = np.inf\n",
    "    predicted_label = None\n",
    "    # cost1 = np.inf\n",
    "    for file_name in files:\n",
    "        for audio_name in os.listdir(train_path + '/' + file_name)[0:3]:  # Voi moi tu, lay 3 mau\n",
    "            mfcc1 = get_mfcc(train_path + '/' + file_name + '/' + audio_name)\n",
    "            D, _, _, _ = dtw(mfcc, mfcc1, dist_method=lambda x, y: np.linalg.norm(x - y, ord=1))\n",
    "\n",
    "            if D < distance:\n",
    "                distance = D\n",
    "                predicted_label = file_name\n",
    "    return distance, predicted_label\n"
   ]
  },
  {
   "cell_type": "code",
   "execution_count": 6,
   "id": "e5cd0e91-8311-4356-b18e-162a802a5c11",
   "metadata": {},
   "outputs": [
    {
     "ename": "TypeError",
     "evalue": "cannot unpack non-iterable DTW object",
     "output_type": "error",
     "traceback": [
      "\u001b[1;31m---------------------------------------------------------------------------\u001b[0m",
      "\u001b[1;31mTypeError\u001b[0m                                 Traceback (most recent call last)",
      "\u001b[1;32m~\\AppData\\Local\\Temp/ipykernel_31844/3343334301.py\u001b[0m in \u001b[0;36m<module>\u001b[1;34m\u001b[0m\n\u001b[0;32m     11\u001b[0m \u001b[1;33m\u001b[0m\u001b[0m\n\u001b[0;32m     12\u001b[0m \u001b[1;33m\u001b[0m\u001b[0m\n\u001b[1;32m---> 13\u001b[1;33m \u001b[0mdis\u001b[0m\u001b[1;33m,\u001b[0m \u001b[0mresult\u001b[0m \u001b[1;33m=\u001b[0m \u001b[0mpredict_result\u001b[0m\u001b[1;33m(\u001b[0m\u001b[1;34m'MFCC_feature/test_data/1.wav'\u001b[0m\u001b[1;33m)\u001b[0m\u001b[1;33m\u001b[0m\u001b[1;33m\u001b[0m\u001b[0m\n\u001b[0m\u001b[0;32m     14\u001b[0m \u001b[1;33m\u001b[0m\u001b[0m\n\u001b[0;32m     15\u001b[0m \u001b[0mprint\u001b[0m\u001b[1;33m(\u001b[0m\u001b[1;34m'distance: '\u001b[0m\u001b[1;33m,\u001b[0m \u001b[0mdis\u001b[0m\u001b[1;33m)\u001b[0m\u001b[1;33m\u001b[0m\u001b[1;33m\u001b[0m\u001b[0m\n",
      "\u001b[1;32m~\\AppData\\Local\\Temp/ipykernel_31844/2609242096.py\u001b[0m in \u001b[0;36mpredict_result\u001b[1;34m(file_test)\u001b[0m\n\u001b[0;32m      7\u001b[0m         \u001b[1;32mfor\u001b[0m \u001b[0maudio_name\u001b[0m \u001b[1;32min\u001b[0m \u001b[0mos\u001b[0m\u001b[1;33m.\u001b[0m\u001b[0mlistdir\u001b[0m\u001b[1;33m(\u001b[0m\u001b[0mtrain_path\u001b[0m \u001b[1;33m+\u001b[0m \u001b[1;34m'/'\u001b[0m \u001b[1;33m+\u001b[0m \u001b[0mfile_name\u001b[0m\u001b[1;33m)\u001b[0m\u001b[1;33m[\u001b[0m\u001b[1;36m0\u001b[0m\u001b[1;33m:\u001b[0m\u001b[1;36m3\u001b[0m\u001b[1;33m]\u001b[0m\u001b[1;33m:\u001b[0m  \u001b[1;31m# Voi moi tu, lay 3 mau\u001b[0m\u001b[1;33m\u001b[0m\u001b[1;33m\u001b[0m\u001b[0m\n\u001b[0;32m      8\u001b[0m             \u001b[0mmfcc1\u001b[0m \u001b[1;33m=\u001b[0m \u001b[0mget_mfcc\u001b[0m\u001b[1;33m(\u001b[0m\u001b[0mtrain_path\u001b[0m \u001b[1;33m+\u001b[0m \u001b[1;34m'/'\u001b[0m \u001b[1;33m+\u001b[0m \u001b[0mfile_name\u001b[0m \u001b[1;33m+\u001b[0m \u001b[1;34m'/'\u001b[0m \u001b[1;33m+\u001b[0m \u001b[0maudio_name\u001b[0m\u001b[1;33m)\u001b[0m\u001b[1;33m\u001b[0m\u001b[1;33m\u001b[0m\u001b[0m\n\u001b[1;32m----> 9\u001b[1;33m             \u001b[0mD\u001b[0m\u001b[1;33m,\u001b[0m \u001b[0m_\u001b[0m\u001b[1;33m,\u001b[0m \u001b[0m_\u001b[0m\u001b[1;33m,\u001b[0m \u001b[0m_\u001b[0m \u001b[1;33m=\u001b[0m \u001b[0mdtw\u001b[0m\u001b[1;33m(\u001b[0m\u001b[0mmfcc\u001b[0m\u001b[1;33m,\u001b[0m \u001b[0mmfcc1\u001b[0m\u001b[1;33m,\u001b[0m \u001b[0mdist_method\u001b[0m\u001b[1;33m=\u001b[0m\u001b[1;32mlambda\u001b[0m \u001b[0mx\u001b[0m\u001b[1;33m,\u001b[0m \u001b[0my\u001b[0m\u001b[1;33m:\u001b[0m \u001b[0mnp\u001b[0m\u001b[1;33m.\u001b[0m\u001b[0mlinalg\u001b[0m\u001b[1;33m.\u001b[0m\u001b[0mnorm\u001b[0m\u001b[1;33m(\u001b[0m\u001b[0mx\u001b[0m \u001b[1;33m-\u001b[0m \u001b[0my\u001b[0m\u001b[1;33m,\u001b[0m \u001b[0mord\u001b[0m\u001b[1;33m=\u001b[0m\u001b[1;36m1\u001b[0m\u001b[1;33m)\u001b[0m\u001b[1;33m)\u001b[0m\u001b[1;33m\u001b[0m\u001b[1;33m\u001b[0m\u001b[0m\n\u001b[0m\u001b[0;32m     10\u001b[0m \u001b[1;33m\u001b[0m\u001b[0m\n\u001b[0;32m     11\u001b[0m             \u001b[1;32mif\u001b[0m \u001b[0mD\u001b[0m \u001b[1;33m<\u001b[0m \u001b[0mdistance\u001b[0m\u001b[1;33m:\u001b[0m\u001b[1;33m\u001b[0m\u001b[1;33m\u001b[0m\u001b[0m\n",
      "\u001b[1;31mTypeError\u001b[0m: cannot unpack non-iterable DTW object"
     ]
    }
   ],
   "source": [
    "predict = []\n",
    "real_label = []\n",
    "\n",
    "\n",
    "def cross_validation():\n",
    "    for file_name in files:\n",
    "        for audio_name in os.listdir(train_path + '/' + file_name)[4:20]:\n",
    "            _, predict_label = predict_result(train_path + '/' + file_name + '/' + audio_name)\n",
    "            real_label.append(file_name)\n",
    "            predict.append(predict_label)\n",
    "\n",
    "\n",
    "dis, result = predict_result('MFCC_feature/test_data/1.wav')\n",
    "\n",
    "print('distance: ', dis)\n",
    "print('The word predict is: ', result)"
   ]
  },
  {
   "cell_type": "code",
   "execution_count": null,
   "id": "1cc57cde-9a05-4367-a8d6-92592c7a4ccc",
   "metadata": {},
   "outputs": [],
   "source": []
  },
  {
   "cell_type": "code",
   "execution_count": null,
   "id": "82d184a4-27dd-42b1-899c-97628b601c3f",
   "metadata": {},
   "outputs": [],
   "source": []
  },
  {
   "cell_type": "code",
   "execution_count": null,
   "id": "87d7522b-4d29-4021-9cb8-a055aa3a9477",
   "metadata": {},
   "outputs": [],
   "source": []
  }
 ],
 "metadata": {
  "kernelspec": {
   "display_name": "Python 3 (ipykernel)",
   "language": "python",
   "name": "python3"
  },
  "language_info": {
   "codemirror_mode": {
    "name": "ipython",
    "version": 3
   },
   "file_extension": ".py",
   "mimetype": "text/x-python",
   "name": "python",
   "nbconvert_exporter": "python",
   "pygments_lexer": "ipython3",
   "version": "3.9.7"
  }
 },
 "nbformat": 4,
 "nbformat_minor": 5
}
