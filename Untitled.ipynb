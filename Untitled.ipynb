{
 "cells": [
  {
   "cell_type": "code",
   "execution_count": 23,
   "id": "3df0c866-7ad0-417f-9dee-5ff103d941e9",
   "metadata": {},
   "outputs": [
    {
     "name": "stdout",
     "output_type": "stream",
     "text": [
      "It was created 1000 new .wav files, where each signal represents one word.\n"
     ]
    }
   ],
   "source": [
    "import librosa\n",
    "import matplotlib.pyplot as plt\n",
    "import re\n",
    "import os\n",
    "import numpy as np\n",
    "import math\n",
    "from scipy.io import wavfile\n",
    "from pydub import AudioSegment\n",
    "import soundfile as sf\n",
    "def match_signal_file_with_label_track_file():\n",
    "    signal_and_label_track_pairs = list()\n",
    "    for _file in os.listdir(\"MFCC_feature/data_speech/\"):\n",
    "        if _file.endswith(\".wav\"):\n",
    "            signal_and_label_track_pairs.append({\"signal_path\": _file, \"label\": os.path.splitext(_file)[0] + \".txt\"})\n",
    "    return signal_and_label_track_pairs\n",
    "\n",
    "\n",
    "def get_signal_from_file(signal_file_name):\n",
    "    signal, fs = librosa.load(signal_file_name)\n",
    "    return signal, fs\n",
    "\n",
    "\n",
    "def show_signal(signal, label):\n",
    "    plt.plot(signal)\n",
    "    plt.xlabel(label)\n",
    "    plt.show()\n",
    "\n",
    "\n",
    "# Lay tung khau lenh don le trong file label\n",
    "\n",
    "def parse_track_file(label_track_file_name):\n",
    "    label_track_file = open(label_track_file_name)\n",
    "    label_track_file_line = label_track_file.readlines()\n",
    "    label_track_list = list();\n",
    "    for line in label_track_file_line:\n",
    "        label_item = re.split(r'\\s+', line);\n",
    "        label_track_list.append({\"timestamp_start\": float(label_item[0].replace(\",\", \".\")) * 1000,\n",
    "                                 \"timestamp_end\": float(label_item[1].replace(\",\", \".\")) * 1000,\n",
    "                                 \"label\": label_item[2]})\n",
    "    return label_track_list  # [\"timestamp_start\":0, \"timestamp_end\": 1234, \"label\": \"len\", \"label_id\"=}]\n",
    "\n",
    "\n",
    "# Ham tach file thanh cac file khau lenh don le\n",
    "\n",
    "def audio_segment(signal_file_name, label_track_file):\n",
    "    dataset = list()\n",
    "    file_number = (os.path.splitext(signal_file_name))[0][25:]\n",
    "    label_track_list = parse_track_file(label_track_file)\n",
    "    i = 0\n",
    "    for label_track in label_track_list:\n",
    "        try:\n",
    "            newAudio = AudioSegment.from_wav(signal_file_name);\n",
    "            newAudio = newAudio[label_track[\"timestamp_start\"]:label_track[\"timestamp_end\"]]\n",
    "            signal = \"MFCC_feature/data_output/\" + label_track[\"label\"] + \"/\" + file_number + '_' + label_track[\"label\"] + \"_\" + str(i) + \".wav\"\n",
    "            newAudio.export(signal, format=\"wav\")\n",
    "            dataset.append({\"signal_path\": signal, \"label\": label_track[\"label\"]})\n",
    "            i += 1\n",
    "        except FileNotFoundError:\n",
    "            print(\"Not able to segment %s file. File not found error\" % signal)\n",
    "    return dataset\n",
    "data = list()\n",
    "for pair in match_signal_file_with_label_track_file():\n",
    "    data += audio_segment(\"MFCC_feature/data_speech/\" + pair['signal_path'], \"MFCC_feature/data_speech/\" + pair['label'])\n",
    "\n",
    "print(\"It was created %s new .wav files, where each signal represents one word.\" % len(data))\n",
    "\n",
    "for d in data:\n",
    "    signal, fs = get_signal_from_file(d['signal_path'])\n",
    "    d[\"fs\"] = fs\n",
    "    d[\"signal\"] = signal\n",
    "    "
   ]
  },
  {
   "cell_type": "code",
   "execution_count": 7,
   "id": "0f1ce0a3-a920-4eec-acba-83ed0c9d98b3",
   "metadata": {},
   "outputs": [],
   "source": [
    "def get_MFCC(signal, sample_rate):\n",
    "    mfccs = librosa.feature.mfcc(y=signal, n_mfcc=13, sr=sample_rate)\n",
    "    delta_mfccs = librosa.feature.delta(mfccs)\n",
    "    delta_delta = librosa.feature.delta(mfccs, order=2)\n",
    "    mfccs_features = np.concatenate((mfccs, delta_mfccs, delta_delta))\n",
    "    return mfccs_features"
   ]
  },
  {
   "cell_type": "code",
   "execution_count": null,
   "id": "b86a28f2-018e-483f-9bd3-9a74375e80f6",
   "metadata": {},
   "outputs": [],
   "source": [
    "mfcc_features = get_MFCC(data[0]['signal'], data[0]['fs'])\n",
    "print('Shape of feature: ', mfcc_features.shape)"
   ]
  }
 ],
 "metadata": {
  "kernelspec": {
   "display_name": "Python 3 (ipykernel)",
   "language": "python",
   "name": "python3"
  },
  "language_info": {
   "codemirror_mode": {
    "name": "ipython",
    "version": 3
   },
   "file_extension": ".py",
   "mimetype": "text/x-python",
   "name": "python",
   "nbconvert_exporter": "python",
   "pygments_lexer": "ipython3",
   "version": "3.9.7"
  }
 },
 "nbformat": 4,
 "nbformat_minor": 5
}
